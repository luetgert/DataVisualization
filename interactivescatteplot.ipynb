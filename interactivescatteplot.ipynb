{
 "cells": [
  {
   "cell_type": "markdown",
   "metadata": {},
   "source": [
    "# Animated Plot for Gapminder Style Data Visualization\n",
    "## Brooke Luetgert, July 14, 2022\n",
    "## Replication of https://www.gapminder.org/tools/ in Python with Plotly"
   ]
  },
  {
   "cell_type": "code",
   "execution_count": null,
   "metadata": {},
   "outputs": [],
   "source": [
    "#import libraries\n",
    "import numpy as np\n",
    "import pandas as pd\n",
    "import matplotlib.pyplot as plt\n",
    "%matplotlib inline\n",
    "import plotly.express as px"
   ]
  },
  {
   "cell_type": "code",
   "execution_count": null,
   "metadata": {},
   "outputs": [],
   "source": [
    "#import data\n",
    "#these are quick World Bank data in country*year format that include \n",
    "#population, for weighting circle size, \n",
    "#year, for the animation element, \n",
    "#continent, for the color identification\n",
    "#life_exp=y\n",
    "#gdp_cap=x\n",
    "\n",
    "df = pd.read_csv('gapminder_full.csv')"
   ]
  },
  {
   "cell_type": "code",
   "execution_count": null,
   "metadata": {},
   "outputs": [],
   "source": [
    "df"
   ]
  },
  {
   "cell_type": "code",
   "execution_count": null,
   "metadata": {},
   "outputs": [],
   "source": [
    "df.describe()"
   ]
  },
  {
   "cell_type": "code",
   "execution_count": null,
   "metadata": {},
   "outputs": [],
   "source": [
    "df.info()"
   ]
  },
  {
   "cell_type": "code",
   "execution_count": null,
   "metadata": {},
   "outputs": [],
   "source": [
    "df_final=df\n",
    "df_final=df.dropna(how='any')\n",
    "df_final=df_final.sort_values(by=['year'])\n",
    "df_final"
   ]
  },
  {
   "cell_type": "code",
   "execution_count": null,
   "metadata": {},
   "outputs": [],
   "source": [
    "fig = px.scatter (df_final, x='gdp_cap', y='life_exp')\n",
    "fig.show()"
   ]
  },
  {
   "cell_type": "code",
   "execution_count": null,
   "metadata": {},
   "outputs": [],
   "source": [
    "fig = px.scatter (df_final, x='gdp_cap', y='life_exp',\n",
    "    log_x= True, size_max=45, range_x=[100,100000], range_y=[25,90]\n",
    "    )\n",
    "fig.show()"
   ]
  },
  {
   "cell_type": "code",
   "execution_count": null,
   "metadata": {},
   "outputs": [],
   "source": [
    "fig = px.scatter(df_final, x='gdp_cap', y='life_exp', animation_frame='year', \n",
    "    animation_group='country',\n",
    "    log_x= True, size_max=45, range_x=[100,100000], range_y=[25,90]\n",
    "    )\n",
    "\n",
    "fig.layout.updatemenus[0].buttons[0].args[1]['frame']['duration'] = 700\n",
    "fig.show()"
   ]
  },
  {
   "cell_type": "code",
   "execution_count": null,
   "metadata": {},
   "outputs": [],
   "source": [
    "fig = px.scatter(df_final, x='gdp_cap', y='life_exp', animation_frame='year', \n",
    "    animation_group='country', size='population', \n",
    "    color='continent', hover_name='country', \n",
    "    log_x= True, size_max=45, range_x=[100,100000], range_y=[25,90]\n",
    "    )\n",
    "\n",
    "fig.layout.updatemenus[0].buttons[0].args[1]['frame']['duration'] = 700\n",
    "fig.show()"
   ]
  },
  {
   "cell_type": "code",
   "execution_count": null,
   "metadata": {},
   "outputs": [],
   "source": [
    "fig = px.scatter(df_final,x='gdp_cap', y='life_exp', animation_frame= 'year', \n",
    " animation_group='country', size='population', \n",
    " color='continent',\n",
    " hover_name='country', log_x=True, \n",
    " size_max=45,range_x=[200,150000], range_y=[10,100]\n",
    " )\n",
    "# Tune marker appearance and layout\n",
    "fig.update_traces(mode='markers', marker=dict(sizemode='area',\n",
    " ))\n",
    "fig.update_layout(\n",
    " title='Life Expectancy v. Per Capita GDP, 1952~2007',\n",
    " xaxis=dict(\n",
    " title='GDP per Capita',\n",
    " gridcolor='white',\n",
    " type='log',\n",
    " gridwidth=2,\n",
    " ),\n",
    " yaxis=dict(\n",
    " title='Life Expectancy (Years)',\n",
    " gridcolor='white',\n",
    " gridwidth=2,\n",
    " ),\n",
    " paper_bgcolor='rgb(243, 243, 243)',\n",
    " plot_bgcolor='rgb(243, 243, 243)',\n",
    ")\n",
    "fig.layout.updatemenus[0].buttons[0].args[1][\"frame\"][\"duration\"] = 600\n",
    "fig.write_html(\"scatterplot.html\")\n",
    "fig.show()"
   ]
  },
  {
   "cell_type": "code",
   "execution_count": null,
   "metadata": {},
   "outputs": [],
   "source": [
    "df = px.data.gapminder()\n",
    "fig = px.scatter(df, x=\"gdpPercap\", y=\"lifeExp\", animation_frame=\"year\", animation_group=\"country\",\n",
    "           size=\"pop\", color=\"continent\", hover_name=\"country\", facet_col=\"continent\",\n",
    "           log_x=True, size_max=45, range_x=[100,100000], range_y=[25,90])\n",
    "\n",
    "# Tune marker appearance and layout\n",
    "fig.update_traces(mode='markers', marker=dict(sizemode='area',\n",
    " ))\n",
    "fig.update_layout(\n",
    " title='Life Expectancy v. Per Capita GDP by Continent, 1952~2007',\n",
    " xaxis=dict(\n",
    " #title='GDP per Capita',\n",
    " gridcolor='white',\n",
    " type='log',\n",
    " gridwidth=2,\n",
    " ),\n",
    " yaxis=dict(\n",
    " title='Life Expectancy (Years)',\n",
    " gridcolor='white',\n",
    " gridwidth=2,\n",
    " ),\n",
    " paper_bgcolor='rgb(243, 243, 243)',\n",
    " plot_bgcolor='rgb(243, 243, 243)',\n",
    ")\n",
    "fig.layout.updatemenus[0].buttons[0].args[1][\"frame\"][\"duration\"] = 600\n",
    "fig.write_html(\"scatterplot_continent_facet.html\")\n",
    "fig.show()"
   ]
  },
  {
   "cell_type": "code",
   "execution_count": null,
   "metadata": {},
   "outputs": [],
   "source": [
    "df = px.data.gapminder()\n",
    "fig = px.line(df, x=\"year\", y=\"lifeExp\", color=\"continent\", line_group=\"country\", hover_name=\"country\",\n",
    "        line_shape=\"spline\", render_mode=\"svg\")\n",
    "fig.show()\n"
   ]
  },
  {
   "cell_type": "code",
   "execution_count": null,
   "metadata": {},
   "outputs": [],
   "source": [
    "df = px.data.gapminder()\n",
    "fig = px.area(df, x=\"year\", y=\"pop\", color=\"continent\", line_group=\"country\")\n",
    "fig.show()"
   ]
  },
  {
   "cell_type": "code",
   "execution_count": null,
   "metadata": {},
   "outputs": [],
   "source": [
    "df = px.data.gapminder().query(\"year == 2007\").query(\"continent == 'Europe'\")\n",
    "df.loc[df['pop'] < 2.e6, 'country'] = 'Other countries' # Represent only large countries\n",
    "fig = px.pie(df, values='pop', names='country', title='Population of European continent')\n",
    "fig.show()"
   ]
  },
  {
   "cell_type": "code",
   "execution_count": null,
   "metadata": {},
   "outputs": [],
   "source": [
    "df = px.data.gapminder().query(\"year == 2007\")\n",
    "fig = px.sunburst(df, path=['continent', 'country'], values='pop',\n",
    "                  color='lifeExp', hover_data=['iso_alpha'])\n",
    "fig.show()"
   ]
  },
  {
   "cell_type": "code",
   "execution_count": null,
   "metadata": {},
   "outputs": [],
   "source": [
    "df = px.data.gapminder()\n",
    "fig = px.scatter_geo(df, locations=\"iso_alpha\", color=\"continent\", hover_name=\"country\", size=\"pop\",\n",
    "               animation_frame=\"year\", projection=\"natural earth\")\n",
    "fig.show()"
   ]
  },
  {
   "cell_type": "code",
   "execution_count": null,
   "metadata": {},
   "outputs": [],
   "source": [
    "df = px.data.gapminder()\n",
    "fig = px.choropleth(df, locations=\"iso_alpha\", color=\"lifeExp\", hover_name=\"country\", animation_frame=\"year\", range_color=[20,80])\n",
    "fig.show()"
   ]
  },
  {
   "cell_type": "code",
   "execution_count": null,
   "metadata": {},
   "outputs": [],
   "source": []
  }
 ],
 "metadata": {
  "kernelspec": {
   "display_name": "Python 3",
   "language": "python",
   "name": "python3"
  },
  "language_info": {
   "codemirror_mode": {
    "name": "ipython",
    "version": 3
   },
   "file_extension": ".py",
   "mimetype": "text/x-python",
   "name": "python",
   "nbconvert_exporter": "python",
   "pygments_lexer": "ipython3",
   "version": "3.7.11"
  }
 },
 "nbformat": 4,
 "nbformat_minor": 4
}
